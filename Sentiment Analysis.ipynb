{
 "cells": [
  {
   "cell_type": "code",
   "execution_count": 1,
   "id": "35b5a43c",
   "metadata": {},
   "outputs": [],
   "source": [
    "import pandas as pd\n",
    "import re\n",
    "import nltk"
   ]
  },
  {
   "cell_type": "code",
   "execution_count": 34,
   "id": "c5e2db21",
   "metadata": {},
   "outputs": [
    {
     "data": {
      "text/html": [
       "<div>\n",
       "<style scoped>\n",
       "    .dataframe tbody tr th:only-of-type {\n",
       "        vertical-align: middle;\n",
       "    }\n",
       "\n",
       "    .dataframe tbody tr th {\n",
       "        vertical-align: top;\n",
       "    }\n",
       "\n",
       "    .dataframe thead th {\n",
       "        text-align: right;\n",
       "    }\n",
       "</style>\n",
       "<table border=\"1\" class=\"dataframe\">\n",
       "  <thead>\n",
       "    <tr style=\"text-align: right;\">\n",
       "      <th></th>\n",
       "      <th>id</th>\n",
       "      <th>label</th>\n",
       "      <th>tweet</th>\n",
       "    </tr>\n",
       "  </thead>\n",
       "  <tbody>\n",
       "    <tr>\n",
       "      <th>0</th>\n",
       "      <td>1</td>\n",
       "      <td>0</td>\n",
       "      <td>#fingerprint #Pregnancy Test https://goo.gl/h1...</td>\n",
       "    </tr>\n",
       "    <tr>\n",
       "      <th>1</th>\n",
       "      <td>2</td>\n",
       "      <td>0</td>\n",
       "      <td>Finally a transparant silicon case ^^ Thanks t...</td>\n",
       "    </tr>\n",
       "    <tr>\n",
       "      <th>2</th>\n",
       "      <td>3</td>\n",
       "      <td>0</td>\n",
       "      <td>We love this! Would you go? #talk #makememorie...</td>\n",
       "    </tr>\n",
       "    <tr>\n",
       "      <th>3</th>\n",
       "      <td>4</td>\n",
       "      <td>0</td>\n",
       "      <td>I'm wired I know I'm George I was made that wa...</td>\n",
       "    </tr>\n",
       "    <tr>\n",
       "      <th>4</th>\n",
       "      <td>5</td>\n",
       "      <td>1</td>\n",
       "      <td>What amazing service! Apple won't even talk to...</td>\n",
       "    </tr>\n",
       "  </tbody>\n",
       "</table>\n",
       "</div>"
      ],
      "text/plain": [
       "   id  label                                              tweet\n",
       "0   1      0  #fingerprint #Pregnancy Test https://goo.gl/h1...\n",
       "1   2      0  Finally a transparant silicon case ^^ Thanks t...\n",
       "2   3      0  We love this! Would you go? #talk #makememorie...\n",
       "3   4      0  I'm wired I know I'm George I was made that wa...\n",
       "4   5      1  What amazing service! Apple won't even talk to..."
      ]
     },
     "execution_count": 34,
     "metadata": {},
     "output_type": "execute_result"
    }
   ],
   "source": [
    "df=pd.read_csv(\"E:\\\\archive\\\\train.csv\")\n",
    "df.head()"
   ]
  },
  {
   "cell_type": "code",
   "execution_count": 35,
   "id": "04b9d401",
   "metadata": {},
   "outputs": [],
   "source": [
    "def cleanSentence(sentence):\n",
    "    sentence=re.sub(r'#[A-Za-z0-9]\\S+','', sentence)\n",
    "    sentence=re.sub(r'http\\S+', '', sentence)\n",
    "    sentence=re.sub(r'@[A-Za-z0-9]\\S+','',sentence)\n",
    "    sentence=\" \".join(word for word in sentence.split() if len(word)>3)\n",
    "    return sentence.strip()"
   ]
  },
  {
   "cell_type": "code",
   "execution_count": 36,
   "id": "84e43132",
   "metadata": {},
   "outputs": [
    {
     "data": {
      "text/plain": [
       "<bound method NDFrame.head of         id  label                                              tweet\n",
       "0        1      0                                               Test\n",
       "1        2      0      Finally transparant silicon case Thanks uncle\n",
       "2        3      0                                   love this! Would\n",
       "3        4      0                        wired know George made that\n",
       "4        5      1  What amazing service! Apple won't even talk ab...\n",
       "...    ...    ...                                                ...\n",
       "7915  7916      0                                          Live loud\n",
       "7916  7917      0  would like wish amazing day! Make every minute...\n",
       "7917  7918      0  Helping lovely year neighbor with iPad this mo...\n",
       "7918  7919      0           Finally stay connected anytime,anywhere!\n",
       "7919  7920      0                                 Apple Barcelona!!!\n",
       "\n",
       "[7920 rows x 3 columns]>"
      ]
     },
     "execution_count": 36,
     "metadata": {},
     "output_type": "execute_result"
    }
   ],
   "source": [
    "df['tweet']=df['tweet'].map(cleanSentence)\n",
    "df.head"
   ]
  },
  {
   "cell_type": "code",
   "execution_count": 37,
   "id": "aa71b2c2",
   "metadata": {},
   "outputs": [],
   "source": [
    "# nltk.download('punkt')"
   ]
  },
  {
   "cell_type": "code",
   "execution_count": 38,
   "id": "4ac9a711",
   "metadata": {},
   "outputs": [
    {
     "data": {
      "text/plain": [
       "(['Test',\n",
       "  'Finally',\n",
       "  'transparant',\n",
       "  'silicon',\n",
       "  'case',\n",
       "  'Thanks',\n",
       "  'uncle',\n",
       "  'love',\n",
       "  'this',\n",
       "  'Would'],\n",
       " 52894)"
      ]
     },
     "execution_count": 38,
     "metadata": {},
     "output_type": "execute_result"
    }
   ],
   "source": [
    "words=[]\n",
    "for sentences in df['tweet']:\n",
    "    words.extend(re.split(r'\\W+',sentences))\n",
    "words[:10],len(words)"
   ]
  },
  {
   "cell_type": "code",
   "execution_count": 39,
   "id": "a13162e2",
   "metadata": {},
   "outputs": [
    {
     "data": {
      "text/plain": [
       "8038"
      ]
     },
     "execution_count": 39,
     "metadata": {},
     "output_type": "execute_result"
    }
   ],
   "source": [
    "# nltk.download('wordnet')\n",
    "from nltk.stem import WordNetLemmatizer\n",
    "lemmatizer=WordNetLemmatizer()\n",
    "words=set([lemmatizer.lemmatize(word.lower()) for word in words])\n",
    "len(words)"
   ]
  },
  {
   "cell_type": "code",
   "execution_count": 40,
   "id": "1daf1645",
   "metadata": {},
   "outputs": [
    {
     "data": {
      "text/plain": [
       "5456"
      ]
     },
     "execution_count": 40,
     "metadata": {},
     "output_type": "execute_result"
    }
   ],
   "source": [
    "train_x=[]\n",
    "words=list(words)\n",
    "for sentence in df.tweet:\n",
    "    word=set([word.lower() for word in sentence.split(\" \")])\n",
    "    temp=[]\n",
    "    for w in words:\n",
    "        temp.append(1 if w in word else 0)\n",
    "    train_x.append(temp)\n",
    "train_x[0].index(1)"
   ]
  },
  {
   "cell_type": "code",
   "execution_count": 41,
   "id": "022e6adb",
   "metadata": {},
   "outputs": [],
   "source": [
    "X=train_x\n",
    "Y=df.label"
   ]
  },
  {
   "cell_type": "code",
   "execution_count": 42,
   "id": "e328dacb",
   "metadata": {},
   "outputs": [],
   "source": [
    "import tensorflow as tf\n",
    "import numpy as np\n",
    "from tensorflow.keras.layers import Dense, Dropout\n",
    "from sklearn.model_selection import train_test_split"
   ]
  },
  {
   "cell_type": "code",
   "execution_count": 54,
   "id": "1f66ec4b",
   "metadata": {},
   "outputs": [
    {
     "name": "stdout",
     "output_type": "stream",
     "text": [
      "Epoch 1/5\n",
      "1268/1268 [==============================] - 31s 24ms/step - loss: 0.4503 - accuracy: 0.8032\n",
      "Epoch 2/5\n",
      "1268/1268 [==============================] - 30s 24ms/step - loss: 0.3795 - accuracy: 0.8346\n",
      "Epoch 3/5\n",
      "1268/1268 [==============================] - 30s 24ms/step - loss: 0.3393 - accuracy: 0.8456\n",
      "Epoch 4/5\n",
      "1268/1268 [==============================] - 30s 24ms/step - loss: 0.2892 - accuracy: 0.8602\n",
      "Epoch 5/5\n",
      "1268/1268 [==============================] - 31s 24ms/step - loss: 0.2543 - accuracy: 0.8808\n"
     ]
    },
    {
     "data": {
      "text/plain": [
       "<tensorflow.python.keras.callbacks.History at 0x2b8b17c02e0>"
      ]
     },
     "execution_count": 54,
     "metadata": {},
     "output_type": "execute_result"
    }
   ],
   "source": [
    "model=tf.keras.models.Sequential()\n",
    "model.add(Dense(500,input_shape=(len(words),), activation='relu'))\n",
    "model.add(Dropout(0.5))\n",
    "model.add(Dense(50, activation='relu'))\n",
    "model.add(Dropout(0.5))\n",
    "model.add(Dense(1, activation='sigmoid'))\n",
    "\n",
    "adam=tf.keras.optimizers.Adam(learning_rate=0.01)\n",
    "model.compile(loss='binary_crossentropy', optimizer=adam, metrics=['accuracy'])\n",
    "\n",
    "X_train, X_test, Y_train, Y_test=train_test_split(X,Y,test_size=0.2)\n",
    "model.fit(np.array(X_train),np.array(Y_train),epochs=5,batch_size=5)"
   ]
  },
  {
   "cell_type": "code",
   "execution_count": 80,
   "id": "d726948a",
   "metadata": {},
   "outputs": [
    {
     "data": {
      "text/plain": [
       "0.8345959595959596"
      ]
     },
     "execution_count": 80,
     "metadata": {},
     "output_type": "execute_result"
    }
   ],
   "source": [
    "count=0\n",
    "for i in range(len(X_test)):\n",
    "    prediction=model.predict(np.array([X_test[i]]))[0][0]\n",
    "    if prediction>0.5 and np.array(Y_test)[i]==1:\n",
    "        count+=1\n",
    "    elif prediction<=0.5 and np.array(Y_test)[i]==0:\n",
    "        count+=1\n",
    "        \n",
    "count/len(X_test)"
   ]
  },
  {
   "cell_type": "code",
   "execution_count": null,
   "id": "9917f46c",
   "metadata": {},
   "outputs": [],
   "source": []
  }
 ],
 "metadata": {
  "kernelspec": {
   "display_name": "Python 3",
   "language": "python",
   "name": "python3"
  },
  "language_info": {
   "codemirror_mode": {
    "name": "ipython",
    "version": 3
   },
   "file_extension": ".py",
   "mimetype": "text/x-python",
   "name": "python",
   "nbconvert_exporter": "python",
   "pygments_lexer": "ipython3",
   "version": "3.8.8"
  }
 },
 "nbformat": 4,
 "nbformat_minor": 5
}
